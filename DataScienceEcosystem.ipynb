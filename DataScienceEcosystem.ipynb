{
 "cells": [
  {
   "cell_type": "markdown",
   "id": "f66fb9da-c826-4bbf-a042-93fa5434498a",
   "metadata": {},
   "source": [
    "# Data Science Tools and Ecosystem"
   ]
  },
  {
   "cell_type": "markdown",
   "id": "3e488f6a-e228-47ba-81f0-6a3373d2cc14",
   "metadata": {},
   "source": [
    "In this notebook, Data Science Tools and Ecosystem are summarized."
   ]
  },
  {
   "cell_type": "markdown",
   "id": "f5226ff8-0e34-40f8-9cc9-15c00269483d",
   "metadata": {},
   "source": [
    "**Objectives:**\n",
    "- Create a Jupyter Notebook\n",
    "- Insert code and markdown cells\n",
    "- Share your notebook through GitHub"
   ]
  },
  {
   "cell_type": "markdown",
   "id": "d0f026d8-6b49-4c34-bdc9-5f514b8c6c74",
   "metadata": {},
   "source": [
    "Some of the popular languages that Data Scientists use are:\n",
    "1. Python\n",
    "2. R\n",
    "3. Julia\n",
    "4. Javascript"
   ]
  },
  {
   "cell_type": "markdown",
   "id": "ef83515d-d8e7-4f87-a6ec-033c1f90ef26",
   "metadata": {},
   "source": [
    "Some of the commonly used libraries used by Data Scientists include:\n",
    "1) Pandas\n",
    "2) Numpy\n",
    "3) Plotly\n",
    "4) Scikit Learn"
   ]
  },
  {
   "cell_type": "markdown",
   "id": "e8a83419-71aa-487e-9a29-aeb7e3ae58fb",
   "metadata": {},
   "source": [
    "| Data Science Tools      |\n",
    "| ----------------------  |\n",
    "| Tablaeu        |\n",
    "| Apache Spark   |\n",
    "| Informatica    |"
   ]
  },
  {
   "cell_type": "markdown",
   "id": "16739b09-df6a-4c50-be82-0224cba7d45b",
   "metadata": {},
   "source": [
    "### Below are a few examples of evaluating arithmetic expressions in Python"
   ]
  },
  {
   "cell_type": "code",
   "execution_count": 1,
   "id": "72709830-2f92-473c-989a-9acd751c61ad",
   "metadata": {},
   "outputs": [
    {
     "data": {
      "text/plain": [
       "17"
      ]
     },
     "execution_count": 1,
     "metadata": {},
     "output_type": "execute_result"
    }
   ],
   "source": [
    "# This a simple arithmetic expression to mutiply then add integers\n",
    "(3*4)+5"
   ]
  },
  {
   "cell_type": "code",
   "execution_count": 2,
   "id": "05ec452d-9639-4ab9-b7a8-7ac04a5cf979",
   "metadata": {},
   "outputs": [
    {
     "data": {
      "text/plain": [
       "3.3333333333333335"
      ]
     },
     "execution_count": 2,
     "metadata": {},
     "output_type": "execute_result"
    }
   ],
   "source": [
    "#This will convert 200 minutes to hours by diving by 60\n",
    "200/60"
   ]
  },
  {
   "cell_type": "markdown",
   "id": "5dd20c5c-4cee-45ec-a44c-1ef901c7e2b7",
   "metadata": {},
   "source": [
    "## Author\n",
    "Isaac Waweru Kariithi"
   ]
  },
  {
   "cell_type": "code",
   "execution_count": null,
   "id": "76c3f687-6355-425d-9d5d-1d489f36f70a",
   "metadata": {},
   "outputs": [],
   "source": []
  }
 ],
 "metadata": {
  "kernelspec": {
   "display_name": "Python 3 (ipykernel)",
   "language": "python",
   "name": "python3"
  },
  "language_info": {
   "codemirror_mode": {
    "name": "ipython",
    "version": 3
   },
   "file_extension": ".py",
   "mimetype": "text/x-python",
   "name": "python",
   "nbconvert_exporter": "python",
   "pygments_lexer": "ipython3",
   "version": "3.9.13"
  }
 },
 "nbformat": 4,
 "nbformat_minor": 5
}
